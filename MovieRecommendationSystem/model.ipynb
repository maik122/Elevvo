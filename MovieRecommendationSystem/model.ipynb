{
 "cells": [
  {
   "cell_type": "markdown",
   "id": "3013c90e",
   "metadata": {},
   "source": [
    "# Movie Recommendation System\n",
    "**Dataset:** MovieLens 100k  \n",
    "**Goal:** Recommend movies to users based on user similarity and evaluate performance using Precision@K.\n",
    "\n",
    "**Covered Topics:**  \n",
    "- User-based collaborative filtering  \n",
    "- Item-based collaborative filtering (bonus)  \n",
    "- Matrix factorization (SVD, bonus)  \n",
    "- Precision@K evaluation  \n",
    "- Visual comparison of recommendation methods\n"
   ]
  },
  {
   "cell_type": "code",
   "execution_count": null,
   "id": "6ccbf952",
   "metadata": {},
   "outputs": [],
   "source": [
    "import pandas as pd\n",
    "import numpy as np\n",
    "import matplotlib.pyplot as plt\n",
    "import seaborn as sns\n",
    "from sklearn.metrics.pairwise import cosine_similarity\n",
    "from sklearn.model_selection import train_test_split\n",
    "\n",
    "# For SVD (Surprise)\n",
    "from surprise import Dataset, Reader, SVD, accuracy\n",
    "from surprise.model_selection import train_test_split as surprise_train_test_split\n",
    "from surprise.model_selection import GridSearchCV\n",
    "\n",
    "# --- Load Data ---\n",
    "import os"
   ]
  },
  {
   "cell_type": "markdown",
   "id": "ea6a66f5",
   "metadata": {},
   "source": [
    "Load Data"
   ]
  },
  {
   "cell_type": "code",
   "execution_count": 2,
   "id": "18c651ce",
   "metadata": {},
   "outputs": [],
   "source": [
    "data_path = \"ml-100k\"\n",
    "\n",
    "ratings = pd.read_csv(\n",
    "    os.path.join(data_path, \"u.data\"),\n",
    "    sep=\"\\t\",\n",
    "    names=[\"user_id\",\"movie_id\",\"rating\",\"timestamp\"]\n",
    ")\n",
    "\n",
    "movies = pd.read_csv(\n",
    "    os.path.join(data_path, \"u.item\"),\n",
    "    sep=\"|\",\n",
    "    encoding=\"latin-1\",\n",
    "    usecols=[0,1],\n",
    "    names=[\"movie_id\",\"title\"]\n",
    ")\n",
    "\n",
    "data = ratings.merge(movies, on=\"movie_id\")\n"
   ]
  },
  {
   "cell_type": "code",
   "execution_count": 3,
   "id": "6384e71b",
   "metadata": {},
   "outputs": [
    {
     "data": {
      "text/html": [
       "<div>\n",
       "<style scoped>\n",
       "    .dataframe tbody tr th:only-of-type {\n",
       "        vertical-align: middle;\n",
       "    }\n",
       "\n",
       "    .dataframe tbody tr th {\n",
       "        vertical-align: top;\n",
       "    }\n",
       "\n",
       "    .dataframe thead th {\n",
       "        text-align: right;\n",
       "    }\n",
       "</style>\n",
       "<table border=\"1\" class=\"dataframe\">\n",
       "  <thead>\n",
       "    <tr style=\"text-align: right;\">\n",
       "      <th></th>\n",
       "      <th>user_id</th>\n",
       "      <th>movie_id</th>\n",
       "      <th>rating</th>\n",
       "      <th>timestamp</th>\n",
       "      <th>title</th>\n",
       "    </tr>\n",
       "  </thead>\n",
       "  <tbody>\n",
       "    <tr>\n",
       "      <th>0</th>\n",
       "      <td>196</td>\n",
       "      <td>242</td>\n",
       "      <td>3</td>\n",
       "      <td>881250949</td>\n",
       "      <td>Kolya (1996)</td>\n",
       "    </tr>\n",
       "    <tr>\n",
       "      <th>1</th>\n",
       "      <td>63</td>\n",
       "      <td>242</td>\n",
       "      <td>3</td>\n",
       "      <td>875747190</td>\n",
       "      <td>Kolya (1996)</td>\n",
       "    </tr>\n",
       "    <tr>\n",
       "      <th>2</th>\n",
       "      <td>226</td>\n",
       "      <td>242</td>\n",
       "      <td>5</td>\n",
       "      <td>883888671</td>\n",
       "      <td>Kolya (1996)</td>\n",
       "    </tr>\n",
       "    <tr>\n",
       "      <th>3</th>\n",
       "      <td>154</td>\n",
       "      <td>242</td>\n",
       "      <td>3</td>\n",
       "      <td>879138235</td>\n",
       "      <td>Kolya (1996)</td>\n",
       "    </tr>\n",
       "    <tr>\n",
       "      <th>4</th>\n",
       "      <td>306</td>\n",
       "      <td>242</td>\n",
       "      <td>5</td>\n",
       "      <td>876503793</td>\n",
       "      <td>Kolya (1996)</td>\n",
       "    </tr>\n",
       "  </tbody>\n",
       "</table>\n",
       "</div>"
      ],
      "text/plain": [
       "   user_id  movie_id  rating  timestamp         title\n",
       "0      196       242       3  881250949  Kolya (1996)\n",
       "1       63       242       3  875747190  Kolya (1996)\n",
       "2      226       242       5  883888671  Kolya (1996)\n",
       "3      154       242       3  879138235  Kolya (1996)\n",
       "4      306       242       5  876503793  Kolya (1996)"
      ]
     },
     "execution_count": 3,
     "metadata": {},
     "output_type": "execute_result"
    }
   ],
   "source": [
    "data.head()\n"
   ]
  },
  {
   "cell_type": "markdown",
   "id": "af465d76",
   "metadata": {},
   "source": [
    "create user item matrix"
   ]
  },
  {
   "cell_type": "code",
   "execution_count": 4,
   "id": "90317d9b",
   "metadata": {},
   "outputs": [],
   "source": [
    "user_item_matrix = data.pivot_table(index=\"user_id\", columns=\"title\", values=\"rating\")\n",
    "user_item_matrix.fillna(0, inplace=True)"
   ]
  },
  {
   "cell_type": "markdown",
   "id": "42177e91",
   "metadata": {},
   "source": [
    "Visualize small subset"
   ]
  },
  {
   "cell_type": "code",
   "execution_count": 5,
   "id": "672a0fe3",
   "metadata": {},
   "outputs": [
    {
     "data": {
      "image/png": "[encoded data removed]",
      "text/plain": [
       "<Figure size 720x432 with 2 Axes>"
      ]
     },
     "metadata": {
      "needs_background": "light"
     },
     "output_type": "display_data"
    }
   ],
   "source": [
    "plt.figure(figsize=(10,6))\n",
    "sns.heatmap(user_item_matrix.iloc[:10,:10], annot=True, cmap=\"YlGnBu\")\n",
    "plt.title(\"User-Item Ratings Matrix (Subset)\")\n",
    "plt.xlabel(\"Movies\")\n",
    "plt.ylabel(\"Users\")\n",
    "plt.show()"
   ]
  },
  {
   "cell_type": "markdown",
   "id": "11070540",
   "metadata": {},
   "source": [
    "compute user based collaborative filtering "
   ]
  },
  {
   "cell_type": "code",
   "execution_count": 6,
   "id": "cdff8514",
   "metadata": {},
   "outputs": [],
   "source": [
    "user_similarity = cosine_similarity(user_item_matrix)\n",
    "user_similarity_df = pd.DataFrame(\n",
    "    user_similarity, index=user_item_matrix.index, columns=user_item_matrix.index\n",
    ")"
   ]
  },
  {
   "cell_type": "code",
   "execution_count": 7,
   "id": "79da58a2",
   "metadata": {},
   "outputs": [],
   "source": [
    "def recommend_user_based(user_id, user_item_matrix, user_similarity_df, top_n=5):\n",
    "    sim_scores = user_similarity_df[user_id]\n",
    "    weighted_ratings = user_item_matrix.T.dot(sim_scores) / sim_scores.sum()\n",
    "    user_rated_movies = user_item_matrix.loc[user_id]\n",
    "    unrated_movies = user_rated_movies[user_rated_movies == 0].index\n",
    "    recommendations = weighted_ratings[unrated_movies].sort_values(ascending=False).head(top_n)\n",
    "    return recommendations.index.tolist()\n"
   ]
  },
  {
   "cell_type": "code",
   "execution_count": 8,
   "id": "8d76e286",
   "metadata": {},
   "outputs": [
    {
     "name": "stdout",
     "output_type": "stream",
     "text": [
      "User-based CF Recommendations for User 1: [\"Schindler's List (1993)\", 'E.T. the Extra-Terrestrial (1982)', \"One Flew Over the Cuckoo's Nest (1975)\", 'English Patient, The (1996)', 'Scream (1996)']\n"
     ]
    }
   ],
   "source": [
    "print(\"User-based CF Recommendations for User 1:\", recommend_user_based(1, user_item_matrix, user_similarity_df, top_n=5))\n"
   ]
  },
  {
   "cell_type": "markdown",
   "id": "a86b481d",
   "metadata": {},
   "source": [
    "item based collaborative filtering"
   ]
  },
  {
   "cell_type": "code",
   "execution_count": 9,
   "id": "6c6c1b74",
   "metadata": {},
   "outputs": [],
   "source": [
    "item_similarity = cosine_similarity(user_item_matrix.T)\n",
    "item_similarity_df = pd.DataFrame(\n",
    "    item_similarity, index=user_item_matrix.columns, columns=user_item_matrix.columns\n",
    ")"
   ]
  },
  {
   "cell_type": "code",
   "execution_count": 10,
   "id": "a1460c17",
   "metadata": {},
   "outputs": [],
   "source": [
    "def recommend_item_based(user_id, user_item_matrix, item_similarity_df, top_n=5):\n",
    "    user_ratings = user_item_matrix.loc[user_id]\n",
    "    recommendations = pd.Series(dtype=float)\n",
    "    for movie, rating in user_ratings[user_ratings > 0].items():\n",
    "        sim_movies = item_similarity_df[movie].drop(movie)\n",
    "        recommendations = recommendations.add(sim_movies * rating, fill_value=0)\n",
    "    recommendations = recommendations.drop(user_ratings[user_ratings > 0].index, errors=\"ignore\")\n",
    "    return recommendations.sort_values(ascending=False).head(top_n).index.tolist()\n"
   ]
  },
  {
   "cell_type": "markdown",
   "id": "a2c9e019",
   "metadata": {},
   "source": [
    "Precision@K Evaluation"
   ]
  },
  {
   "cell_type": "code",
   "execution_count": 11,
   "id": "7f681aaf",
   "metadata": {},
   "outputs": [],
   "source": [
    "train_data, test_data = train_test_split(data, test_size=0.2, random_state=42)\n",
    "train_matrix = train_data.pivot_table(index=\"user_id\", columns=\"title\", values=\"rating\").fillna(0)\n",
    "test_matrix = test_data.pivot_table(index=\"user_id\", columns=\"title\", values=\"rating\").fillna(0)\n"
   ]
  },
  {
   "cell_type": "code",
   "execution_count": 12,
   "id": "a5e34f06",
   "metadata": {},
   "outputs": [],
   "source": [
    "user_sim = cosine_similarity(train_matrix)\n",
    "user_sim_df = pd.DataFrame(user_sim, index=train_matrix.index, columns=train_matrix.index)\n"
   ]
  },
  {
   "cell_type": "code",
   "execution_count": 13,
   "id": "6b5d6366",
   "metadata": {},
   "outputs": [],
   "source": [
    "\n",
    "def get_top_k_recommendations(user_id, train_matrix, user_sim_df, k=5):\n",
    "    sim_scores = user_sim_df[user_id]\n",
    "    weighted_ratings = train_matrix.T.dot(sim_scores) / sim_scores.sum()\n",
    "    user_rated_movies = train_matrix.loc[user_id]\n",
    "    unrated_movies = user_rated_movies[user_rated_movies == 0].index\n",
    "    recommendations = weighted_ratings[unrated_movies].sort_values(ascending=False).head(k)\n",
    "    return recommendations.index.tolist()"
   ]
  },
  {
   "cell_type": "code",
   "execution_count": 14,
   "id": "a4e14941",
   "metadata": {},
   "outputs": [],
   "source": [
    "def precision_at_k(train_matrix, test_matrix, user_sim_df, k=5):\n",
    "    precisions = []\n",
    "    for user_id in test_matrix.index:\n",
    "        recommended = get_top_k_recommendations(user_id, train_matrix, user_sim_df, k)\n",
    "        relevant = test_matrix.loc[user_id]\n",
    "        relevant = relevant[relevant >= 4].index.tolist()\n",
    "        if len(recommended) > 0:\n",
    "            precisions.append(len(set(recommended) & set(relevant)) / k)\n",
    "    return np.mean(precisions)\n"
   ]
  },
  {
   "cell_type": "code",
   "execution_count": 15,
   "id": "5c6a0ebc",
   "metadata": {},
   "outputs": [],
   "source": [
    "precision_user_based = precision_at_k(train_matrix, test_matrix, user_sim_df, k=5)\n"
   ]
  },
  {
   "cell_type": "code",
   "execution_count": 16,
   "id": "b09a2d28",
   "metadata": {},
   "outputs": [
    {
     "name": "stdout",
     "output_type": "stream",
     "text": [
      "Precision@5 for User-Based CF: 0.227\n",
      "Item-based CF Recommendations for User 1: ['E.T. the Extra-Terrestrial (1982)', 'Stand by Me (1986)', 'Speed (1994)', 'Batman (1989)', 'True Lies (1994)']\n"
     ]
    }
   ],
   "source": [
    "print(f\"Precision@5 for User-Based CF: {precision_user_based:.3f}\")\n",
    "print(\"Item-based CF Recommendations for User 1:\", recommend_item_based(1, user_item_matrix, item_similarity_df, top_n=5))\n",
    "\n"
   ]
  },
  {
   "cell_type": "markdown",
   "id": "f66751de",
   "metadata": {},
   "source": [
    "SVD (Surprise)"
   ]
  },
  {
   "cell_type": "code",
   "execution_count": 17,
   "id": "0f6c7596",
   "metadata": {},
   "outputs": [],
   "source": [
    "reader = Reader(line_format=\"user item rating timestamp\", sep=\"\\t\")\n",
    "surprise_data = Dataset.load_from_file(os.path.join(data_path,\"u.data\"), reader=reader)\n",
    "\n",
    "trainset, testset = surprise_train_test_split(surprise_data, test_size=0.2, random_state=42)\n",
    "svd_model = SVD()\n",
    "svd_model.fit(trainset)\n",
    "predictions = svd_model.test(testset)"
   ]
  },
  {
   "cell_type": "markdown",
   "id": "88e6e564",
   "metadata": {},
   "source": [
    "RMSE"
   ]
  },
  {
   "cell_type": "code",
   "execution_count": 18,
   "id": "ebd28f8d",
   "metadata": {},
   "outputs": [
    {
     "name": "stdout",
     "output_type": "stream",
     "text": [
      "RMSE: 0.9370\n"
     ]
    }
   ],
   "source": [
    "rmse = accuracy.rmse(predictions)"
   ]
  },
  {
   "cell_type": "markdown",
   "id": "5fec9c9b",
   "metadata": {},
   "source": [
    "Precision@K for SVD"
   ]
  },
  {
   "cell_type": "code",
   "execution_count": 19,
   "id": "802d9f02",
   "metadata": {},
   "outputs": [],
   "source": [
    "def recommend_svd(user_id, model, movies_df, user_item_matrix, top_n=5):\n",
    "    user_unrated = movies_df[~movies_df[\"movie_id\"].isin(\n",
    "        user_item_matrix.loc[user_id][user_item_matrix.loc[user_id] > 0].index\n",
    "    )].copy()\n",
    "    user_unrated[\"pred_rating\"] = user_unrated[\"movie_id\"].apply(lambda x: model.predict(user_id, x).est)\n",
    "    return user_unrated.sort_values(\"pred_rating\", ascending=False).head(top_n)[\"title\"].tolist()\n"
   ]
  },
  {
   "cell_type": "code",
   "execution_count": 20,
   "id": "0517cc18",
   "metadata": {},
   "outputs": [
    {
     "name": "stdout",
     "output_type": "stream",
     "text": [
      " SVD Recommendations for User 1: ['Toy Story (1995)', 'Firestorm (1998)', 'Chungking Express (1994)', 'Heidi Fleiss: Hollywood Madam (1995) ', 'Truman Show, The (1998)']\n"
     ]
    }
   ],
   "source": [
    "print(\" SVD Recommendations for User 1:\", recommend_svd(1, svd_model, movies, user_item_matrix, top_n=5))\n"
   ]
  },
  {
   "cell_type": "code",
   "execution_count": 21,
   "id": "5470d201",
   "metadata": {},
   "outputs": [],
   "source": [
    "def precision_at_k_svd(predictions, model, movies_df, user_item_matrix, k=5):\n",
    "    # Organize predictions by user\n",
    "    from collections import defaultdict\n",
    "    user_estimates = defaultdict(list)\n",
    "    for pred in predictions:\n",
    "        uid = int(pred.uid)\n",
    "        iid = int(pred.iid)\n",
    "        true_r = pred.r_ui\n",
    "        est = pred.est\n",
    "        user_estimates[uid].append((iid, true_r, est))\n",
    "    \n",
    "    precisions = []\n",
    "    for uid, user_preds in user_estimates.items():\n",
    "        # Get top-k recommendations\n",
    "        recommended = recommend_svd(uid, model, movies_df, user_item_matrix, top_n=k)\n",
    "        \n",
    "        # Relevant items (true rating >= 4)\n",
    "        relevant = [movies_df.loc[movies_df[\"movie_id\"] == iid, \"title\"].values[0]\n",
    "                    for iid, true_r, _ in user_preds if true_r >= 4]\n",
    "        \n",
    "        if recommended and relevant:\n",
    "            hits = len(set(recommended) & set(relevant))\n",
    "            precisions.append(hits / k)\n",
    "    \n",
    "    return np.mean(precisions) if precisions else 0\n"
   ]
  },
  {
   "cell_type": "code",
   "execution_count": 22,
   "id": "4a1c8018",
   "metadata": {},
   "outputs": [],
   "source": [
    "precision_svd = precision_at_k_svd(predictions, svd_model, movies, user_item_matrix, k=5)\n"
   ]
  },
  {
   "cell_type": "code",
   "execution_count": 27,
   "id": "76338d54",
   "metadata": {},
   "outputs": [],
   "source": [
    "def precision_at_k_item_based(train_matrix, test_matrix, item_similarity_df, k=5):\n",
    "    precisions = []\n",
    "    for user_id in test_matrix.index:\n",
    "        recommended = recommend_item_based(user_id, train_matrix, item_similarity_df, top_n=k)\n",
    "        relevant = test_matrix.loc[user_id]\n",
    "        relevant = relevant[relevant >= 4].index.tolist()\n",
    "        if recommended and relevant:\n",
    "            hits = len(set(recommended) & set(relevant))\n",
    "            precisions.append(hits / k)\n",
    "    return np.mean(precisions) if precisions else 0\n",
    "\n",
    "precision_item_based = precision_at_k_item_based(train_matrix, test_matrix, item_similarity_df, k=5)\n"
   ]
  },
  {
   "cell_type": "markdown",
   "id": "90b58858",
   "metadata": {},
   "source": [
    "Results "
   ]
  },
  {
   "cell_type": "code",
   "execution_count": 28,
   "id": "27ade1a0",
   "metadata": {},
   "outputs": [
    {
     "name": "stdout",
     "output_type": "stream",
     "text": [
      "🎬 Recommendations for User 1\n",
      "--------------------------------------------------\n",
      "User-based CF: [\"Schindler's List (1993)\", 'E.T. the Extra-Terrestrial (1982)', \"One Flew Over the Cuckoo's Nest (1975)\", 'English Patient, The (1996)', 'Scream (1996)']\n",
      "Item-based CF: ['E.T. the Extra-Terrestrial (1982)', 'Stand by Me (1986)', 'Speed (1994)', 'Batman (1989)', 'True Lies (1994)']\n",
      "SVD: ['Toy Story (1995)', 'Firestorm (1998)', 'Chungking Express (1994)', 'Heidi Fleiss: Hollywood Madam (1995) ', 'Truman Show, The (1998)']\n",
      "\n",
      "📊 Precision@5 Results\n",
      "User-based CF: 0.227\n",
      "Item-based CF: 0.311\n",
      "SVD: 0.014\n",
      "SVD RMSE: 0.937\n"
     ]
    }
   ],
   "source": [
    "print(\"🎬 Recommendations for User 1\")\n",
    "print(\"-\"*50)\n",
    "print(\"User-based CF:\", recommend_user_based(1, user_item_matrix, user_similarity_df, top_n=5))\n",
    "print(\"Item-based CF:\", recommend_item_based(1, user_item_matrix, item_similarity_df, top_n=5))\n",
    "print(\"SVD:\", recommend_svd(1, svd_model, movies, user_item_matrix, top_n=5))\n",
    "print()\n",
    "\n",
    "print(\"📊 Precision@5 Results\")\n",
    "print(f\"User-based CF: {precision_user_based:.3f}\")\n",
    "print(f\"Item-based CF: {precision_item_based:.3f}\")\n",
    "print(f\"SVD: {precision_svd:.3f}\")\n",
    "print(f\"SVD RMSE: {rmse:.3f}\")"
   ]
  },
  {
   "cell_type": "code",
   "execution_count": 29,
   "id": "8e003074",
   "metadata": {},
   "outputs": [
    {
     "data": {
      "image/png": "[encoded data removed]",
      "text/plain": [
       "<Figure size 504x360 with 1 Axes>"
      ]
     },
     "metadata": {
      "needs_background": "light"
     },
     "output_type": "display_data"
    }
   ],
   "source": [
    "plt.figure(figsize=(7,5))\n",
    "methods = [\"User-based CF\", \"Item-based CF\", \"SVD\"]\n",
    "scores = [precision_user_based, precision_item_based, precision_svd]\n",
    "plt.bar(methods, scores, color=[\"blue\",\"green\",\"orange\"])\n",
    "plt.ylabel(\"Precision@5\")\n",
    "plt.title(\"Precision@5 Comparison of Recommendation Methods\")\n",
    "plt.ylim(0, 1)\n",
    "plt.show()"
   ]
  },
  {
   "cell_type": "code",
   "execution_count": 25,
   "id": "454738b7",
   "metadata": {},
   "outputs": [
    {
     "name": "stdout",
     "output_type": "stream",
     "text": [
      "🎬 Recommendations for User 1\n",
      "==================================================\n",
      "User-based CF: [\"Schindler's List (1993)\", 'E.T. the Extra-Terrestrial (1982)', \"One Flew Over the Cuckoo's Nest (1975)\", 'English Patient, The (1996)', 'Scream (1996)']\n",
      "Item-based CF: ['E.T. the Extra-Terrestrial (1982)', 'Stand by Me (1986)', 'Speed (1994)', 'Batman (1989)', 'True Lies (1994)']\n",
      "SVD: ['Toy Story (1995)', 'Firestorm (1998)', 'Chungking Express (1994)', 'Heidi Fleiss: Hollywood Madam (1995) ', 'Truman Show, The (1998)']\n"
     ]
    },
    {
     "data": {
      "text/html": [
       "<div>\n",
       "<style scoped>\n",
       "    .dataframe tbody tr th:only-of-type {\n",
       "        vertical-align: middle;\n",
       "    }\n",
       "\n",
       "    .dataframe tbody tr th {\n",
       "        vertical-align: top;\n",
       "    }\n",
       "\n",
       "    .dataframe thead th {\n",
       "        text-align: right;\n",
       "    }\n",
       "</style>\n",
       "<table border=\"1\" class=\"dataframe\">\n",
       "  <thead>\n",
       "    <tr style=\"text-align: right;\">\n",
       "      <th></th>\n",
       "      <th>User-based CF</th>\n",
       "      <th>Item-based CF</th>\n",
       "      <th>SVD</th>\n",
       "    </tr>\n",
       "  </thead>\n",
       "  <tbody>\n",
       "    <tr>\n",
       "      <th>0</th>\n",
       "      <td>Schindler's List (1993)</td>\n",
       "      <td>E.T. the Extra-Terrestrial (1982)</td>\n",
       "      <td>Toy Story (1995)</td>\n",
       "    </tr>\n",
       "    <tr>\n",
       "      <th>1</th>\n",
       "      <td>E.T. the Extra-Terrestrial (1982)</td>\n",
       "      <td>Stand by Me (1986)</td>\n",
       "      <td>Firestorm (1998)</td>\n",
       "    </tr>\n",
       "    <tr>\n",
       "      <th>2</th>\n",
       "      <td>One Flew Over the Cuckoo's Nest (1975)</td>\n",
       "      <td>Speed (1994)</td>\n",
       "      <td>Chungking Express (1994)</td>\n",
       "    </tr>\n",
       "    <tr>\n",
       "      <th>3</th>\n",
       "      <td>English Patient, The (1996)</td>\n",
       "      <td>Batman (1989)</td>\n",
       "      <td>Heidi Fleiss: Hollywood Madam (1995)</td>\n",
       "    </tr>\n",
       "    <tr>\n",
       "      <th>4</th>\n",
       "      <td>Scream (1996)</td>\n",
       "      <td>True Lies (1994)</td>\n",
       "      <td>Truman Show, The (1998)</td>\n",
       "    </tr>\n",
       "  </tbody>\n",
       "</table>\n",
       "</div>"
      ],
      "text/plain": [
       "                            User-based CF                      Item-based CF  \\\n",
       "0                 Schindler's List (1993)  E.T. the Extra-Terrestrial (1982)   \n",
       "1       E.T. the Extra-Terrestrial (1982)                 Stand by Me (1986)   \n",
       "2  One Flew Over the Cuckoo's Nest (1975)                       Speed (1994)   \n",
       "3             English Patient, The (1996)                      Batman (1989)   \n",
       "4                           Scream (1996)                   True Lies (1994)   \n",
       "\n",
       "                                     SVD  \n",
       "0                       Toy Story (1995)  \n",
       "1                       Firestorm (1998)  \n",
       "2               Chungking Express (1994)  \n",
       "3  Heidi Fleiss: Hollywood Madam (1995)   \n",
       "4                Truman Show, The (1998)  "
      ]
     },
     "execution_count": 25,
     "metadata": {},
     "output_type": "execute_result"
    }
   ],
   "source": [
    "# =================================================\n",
    "# SIDE-BY-SIDE RECOMMENDATIONS FOR USER 1\n",
    "# =================================================\n",
    "target_user = 1\n",
    "\n",
    "user_based_recs = recommend_user_based(target_user, user_item_matrix, user_similarity_df, top_n=5)\n",
    "item_based_recs = recommend_item_based(target_user, user_item_matrix, item_similarity_df, top_n=5)\n",
    "svd_recs = recommend_svd(target_user, svd_model, movies, user_item_matrix, top_n=5)\n",
    "\n",
    "print(f\"🎬 Recommendations for User {target_user}\")\n",
    "print(\"=\"*50)\n",
    "print(\"User-based CF:\", user_based_recs)\n",
    "print(\"Item-based CF:\", item_based_recs)\n",
    "print(\"SVD:\", svd_recs)\n",
    "\n",
    "# Optional: Display in DataFrame for nicer comparison\n",
    "comparison_df = pd.DataFrame({\n",
    "    \"User-based CF\": user_based_recs,\n",
    "    \"Item-based CF\": item_based_recs,\n",
    "    \"SVD\": svd_recs\n",
    "})\n",
    "comparison_df\n"
   ]
  },
  {
   "cell_type": "code",
   "execution_count": null,
   "id": "9727b9b7",
   "metadata": {},
   "outputs": [
    {
     "name": "stdout",
     "output_type": "stream",
     "text": [
      "Best RMSE score: 0.9179755852419619\n",
      "Best parameters: {'n_factors': 100, 'n_epochs': 40, 'lr_all': 0.01, 'reg_all': 0.1}\n",
      "RMSE: 0.9118\n",
      "Tuned SVD Precision@5: 0.014\n",
      "Tuned SVD RMSE: 0.912\n"
     ]
    }
   ],
   "source": [
    "\n",
    "# Define parameter grid for SVD\n",
    "param_grid = {\n",
    "    'n_factors': [50, 100, 150],     # latent factors\n",
    "    'n_epochs': [20, 40, 60],        # training epochs\n",
    "    'lr_all': [0.002, 0.005, 0.01],  # learning rates\n",
    "    'reg_all': [0.02, 0.05, 0.1]     # regularization\n",
    "}\n",
    "\n",
    "# Run grid search with cross-validation\n",
    "gs = GridSearchCV(SVD, param_grid, measures=['rmse', 'mae'], cv=3, n_jobs=-1)\n",
    "gs.fit(surprise_data)\n",
    "\n",
    "# Print best parameters and scores\n",
    "print(\"Best RMSE score:\", gs.best_score['rmse'])\n",
    "print(\"Best parameters:\", gs.best_params['rmse'])\n",
    "\n",
    "# Train final SVD model with best parameters\n",
    "best_params = gs.best_params['rmse']\n",
    "svd_model = SVD(**best_params)\n",
    "svd_model.fit(trainset)\n",
    "\n",
    "# Evaluate again\n",
    "predictions = svd_model.test(testset)\n",
    "rmse = accuracy.rmse(predictions)\n",
    "\n",
    "# Recompute Precision@5 for SVD\n",
    "precision_svd = precision_at_k_svd(predictions, svd_model, movies, user_item_matrix, k=5)\n",
    "\n",
    "print(f\"Tuned SVD Precision@5: {precision_svd:.3f}\")\n",
    "print(f\"Tuned SVD RMSE: {rmse:.3f}\")\n"
   ]
  },
  {
   "cell_type": "code",
   "execution_count": null,
   "id": "1996bb06",
   "metadata": {},
   "outputs": [],
   "source": []
  },
  {
   "cell_type": "code",
   "execution_count": 32,
   "id": "66d9937f",
   "metadata": {},
   "outputs": [
    {
     "data": {
      "image/png": "[encoded data removed]",
      "text/plain": [
       "<Figure size 432x288 with 1 Axes>"
      ]
     },
     "metadata": {
      "needs_background": "light"
     },
     "output_type": "display_data"
    }
   ],
   "source": [
    "ks = [1, 3, 5, 10, 20]\n",
    "precisions_svd = [precision_at_k_svd(predictions, svd_model, movies, user_item_matrix, k=k) for k in ks]\n",
    "\n",
    "plt.plot(ks, precisions_svd, marker='o', label=\"SVD\")\n",
    "plt.xlabel(\"K\")\n",
    "plt.ylabel(\"Precision@K\")\n",
    "plt.title(\"SVD Precision@K\")\n",
    "plt.legend()\n",
    "plt.show()\n"
   ]
  }
 ],
 "metadata": {
  "kernelspec": {
   "display_name": "Python 3",
   "language": "python",
   "name": "python3"
  },
  "language_info": {
   "codemirror_mode": {
    "name": "ipython",
    "version": 3
   },
   "file_extension": ".py",
   "mimetype": "text/x-python",
   "name": "python",
   "nbconvert_exporter": "python",
   "pygments_lexer": "ipython3",
   "version": "3.11.9"
  }
 },
 "nbformat": 4,
 "nbformat_minor": 5
}
